{
  "nbformat": 4,
  "nbformat_minor": 0,
  "metadata": {
    "colab": {
      "name": "Image Perspective",
      "provenance": [],
      "collapsed_sections": [],
      "mount_file_id": "1N1OTtk44acokELn3i6jL022EOesBClWA",
      "authorship_tag": "ABX9TyMizDRCgpQZn12oG3c2pX/j",
      "include_colab_link": true
    },
    "kernelspec": {
      "name": "python3",
      "display_name": "Python 3"
    }
  },
  "cells": [
    {
      "cell_type": "markdown",
      "metadata": {
        "id": "view-in-github",
        "colab_type": "text"
      },
      "source": [
        "<a href=\"https://colab.research.google.com/github/Samrajan2919/assignment/blob/master/Image_Perspective.ipynb\" target=\"_parent\"><img src=\"https://colab.research.google.com/assets/colab-badge.svg\" alt=\"Open In Colab\"/></a>"
      ]
    },
    {
      "cell_type": "code",
      "metadata": {
        "id": "iggBSZ3NG_rr",
        "colab_type": "code",
        "colab": {
          "base_uri": "https://localhost:8080/",
          "height": 54
        },
        "outputId": "43114712-5a9e-4a3f-bd91-c5dec089e04d"
      },
      "source": [
        "!pip install pyzbar"
      ],
      "execution_count": null,
      "outputs": [
        {
          "output_type": "stream",
          "text": [
            "Requirement already satisfied: pyzbar in /usr/local/lib/python3.6/dist-packages (0.1.8)\n"
          ],
          "name": "stdout"
        }
      ]
    },
    {
      "cell_type": "code",
      "metadata": {
        "id": "dzKaLkhdHECi",
        "colab_type": "code",
        "colab": {}
      },
      "source": [
        "import cv2\n",
        "from pyzbar import pyzbar"
      ],
      "execution_count": null,
      "outputs": []
    },
    {
      "cell_type": "code",
      "metadata": {
        "id": "ByLYWgdgHLmf",
        "colab_type": "code",
        "colab": {}
      },
      "source": [
        "img=cv2.imread('/content/drive/My Drive/datamatrix_sample1_130x116.png')"
      ],
      "execution_count": null,
      "outputs": []
    },
    {
      "cell_type": "code",
      "metadata": {
        "id": "52khEyeKHy0e",
        "colab_type": "code",
        "colab": {}
      },
      "source": [
        "import matplotlib.pyplot as plt"
      ],
      "execution_count": null,
      "outputs": []
    },
    {
      "cell_type": "code",
      "metadata": {
        "id": "GE0cjghgHdFK",
        "colab_type": "code",
        "colab": {}
      },
      "source": [
        "plt.imshow(img)"
      ],
      "execution_count": null,
      "outputs": []
    },
    {
      "cell_type": "code",
      "metadata": {
        "id": "dukIMv_VGUFy",
        "colab_type": "code",
        "colab": {}
      },
      "source": [
        " \n",
        "from keras.preprocessing.image import ImageDataGenerator,array_to_img,img_to_array"
      ],
      "execution_count": null,
      "outputs": []
    },
    {
      "cell_type": "code",
      "metadata": {
        "id": "PrfWjb_oHE9D",
        "colab_type": "code",
        "colab": {}
      },
      "source": [
        "a=img_to_array(img)\n",
        "a"
      ],
      "execution_count": null,
      "outputs": []
    },
    {
      "cell_type": "code",
      "metadata": {
        "id": "TPF-_9gaKjFP",
        "colab_type": "code",
        "colab": {}
      },
      "source": [
        " import cv2\n",
        "cv2.getPerspectiveTransform\n",
        "import numpy as np"
      ],
      "execution_count": null,
      "outputs": []
    },
    {
      "cell_type": "code",
      "metadata": {
        "id": "ZqENjhjcGF16",
        "colab_type": "code",
        "colab": {}
      },
      "source": [
        "width, height=250,350\n",
        "point1=np.float32([[111,219],[287,188],[154,482],[357,445]])"
      ],
      "execution_count": null,
      "outputs": []
    },
    {
      "cell_type": "code",
      "metadata": {
        "id": "3VLNrU3hH1pM",
        "colab_type": "code",
        "colab": {
          "base_uri": "https://localhost:8080/",
          "height": 85
        },
        "outputId": "88a6ee0e-7c77-4a5a-da0c-c10b1c449550"
      },
      "source": [
        "print(point1)"
      ],
      "execution_count": null,
      "outputs": [
        {
          "output_type": "stream",
          "text": [
            "[[111. 219.]\n",
            " [287. 188.]\n",
            " [154. 482.]\n",
            " [357. 445.]]\n"
          ],
          "name": "stdout"
        }
      ]
    },
    {
      "cell_type": "code",
      "metadata": {
        "id": "mFSf76J9H53t",
        "colab_type": "code",
        "colab": {
          "base_uri": "https://localhost:8080/",
          "height": 85
        },
        "outputId": "8c1dec27-229c-4b05-efb4-df7872998e17"
      },
      "source": [
        "point2=np.float32([[0,0],[width,0],[0, height],[width, height]])\n",
        "print (point2)"
      ],
      "execution_count": null,
      "outputs": [
        {
          "output_type": "stream",
          "text": [
            "[[  0.   0.]\n",
            " [250.   0.]\n",
            " [  0. 350.]\n",
            " [250. 350.]]\n"
          ],
          "name": "stdout"
        }
      ]
    },
    {
      "cell_type": "code",
      "metadata": {
        "id": "jfsR1fQhJ6Gv",
        "colab_type": "code",
        "colab": {
          "base_uri": "https://localhost:8080/",
          "height": 88
        },
        "outputId": "2df0bea5-112f-4f55-f46f-3a66c35c25db"
      },
      "source": [
        "matrix=cv2.getPerspectiveTransform(point1,point2)\n",
        "matrix"
      ],
      "execution_count": null,
      "outputs": [
        {
          "output_type": "execute_result",
          "data": {
            "text/plain": [
              "array([[ 1.59022163e+00, -2.59998214e-01, -1.19574993e+02],\n",
              "       [ 3.04368503e-01,  1.72802763e+00, -4.12222955e+02],\n",
              "       [ 9.14251206e-05,  6.67642549e-04,  1.00000000e+00]])"
            ]
          },
          "metadata": {
            "tags": []
          },
          "execution_count": 37
        }
      ]
    },
    {
      "cell_type": "code",
      "metadata": {
        "id": "z2auYSpgKjvW",
        "colab_type": "code",
        "colab": {
          "base_uri": "https://localhost:8080/",
          "height": 870
        },
        "outputId": "d297ad3b-c3bf-4ccf-f313-71ce7152076c"
      },
      "source": [
        "output=cv2.warpPerspective(img,matrix,(width, height))\n",
        "output"
      ],
      "execution_count": null,
      "outputs": [
        {
          "output_type": "execute_result",
          "data": {
            "text/plain": [
              "array([[[226, 226, 226],\n",
              "        [227, 227, 227],\n",
              "        [228, 228, 228],\n",
              "        ...,\n",
              "        [237, 237, 237],\n",
              "        [237, 237, 237],\n",
              "        [237, 237, 237]],\n",
              "\n",
              "       [[231, 231, 231],\n",
              "        [231, 231, 231],\n",
              "        [232, 232, 232],\n",
              "        ...,\n",
              "        [237, 237, 237],\n",
              "        [237, 237, 237],\n",
              "        [237, 237, 237]],\n",
              "\n",
              "       [[235, 235, 235],\n",
              "        [235, 235, 235],\n",
              "        [236, 236, 236],\n",
              "        ...,\n",
              "        [237, 237, 237],\n",
              "        [237, 237, 237],\n",
              "        [237, 237, 237]],\n",
              "\n",
              "       ...,\n",
              "\n",
              "       [[  0,   0,   0],\n",
              "        [  0,   0,   0],\n",
              "        [  0,   0,   0],\n",
              "        ...,\n",
              "        [ 19,  19,  19],\n",
              "        [ 18,  18,  18],\n",
              "        [ 17,  17,  17]],\n",
              "\n",
              "       [[  0,   0,   0],\n",
              "        [  0,   0,   0],\n",
              "        [  0,   0,   0],\n",
              "        ...,\n",
              "        [ 30,  30,  30],\n",
              "        [ 27,  27,  27],\n",
              "        [ 26,  26,  26]],\n",
              "\n",
              "       [[  0,   0,   0],\n",
              "        [  0,   0,   0],\n",
              "        [  0,   0,   0],\n",
              "        ...,\n",
              "        [ 41,  41,  41],\n",
              "        [ 39,  39,  39],\n",
              "        [ 37,  37,  37]]], dtype=uint8)"
            ]
          },
          "metadata": {
            "tags": []
          },
          "execution_count": 39
        }
      ]
    },
    {
      "cell_type": "code",
      "metadata": {
        "id": "1ljfzOGbIU7T",
        "colab_type": "code",
        "colab": {}
      },
      "source": [
        "for x in range (0,4):\n",
        "  cv2.circle(img,(point1[x][0],point2[x][1]]),5,(0,0,255),cv2.FILLED)"
      ],
      "execution_count": null,
      "outputs": []
    },
    {
      "cell_type": "code",
      "metadata": {
        "id": "l6AK9aMLLpWk",
        "colab_type": "code",
        "colab": {}
      },
      "source": [
        "plt.imshow(img)"
      ],
      "execution_count": null,
      "outputs": []
    },
    {
      "cell_type": "code",
      "metadata": {
        "id": "1popnVaiL9A1",
        "colab_type": "code",
        "colab": {}
      },
      "source": [
        "plt.imshow(output)"
      ],
      "execution_count": null,
      "outputs": []
    }
  ]
}